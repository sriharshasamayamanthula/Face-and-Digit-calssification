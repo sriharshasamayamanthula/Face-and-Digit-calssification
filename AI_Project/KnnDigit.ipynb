{
  "cells": [
    {
      "cell_type": "code",
      "execution_count": null,
      "metadata": {
        "id": "u8Eri8_9iIgR"
      },
      "outputs": [],
      "source": [
        "import numpy as np\n",
        "import pandas as pd\n",
        "from sklearn.neighbors import KNeighborsClassifier\n",
        "import random\n",
        "import matplotlib.pyplot as plt\n",
        "import time"
      ]
    },
    {
      "cell_type": "code",
      "execution_count": null,
      "metadata": {
        "id": "nJ7WB1cjiWh-"
      },
      "outputs": [],
      "source": [
        "#Feature extraction is to transform image into list of features using grid technique \n",
        "def feature_extraction(x_path,y_path):\n",
        "  x_array=[] # 2d list to keep features of transformed images\n",
        "  y_array=[] #list to keep track of y labels\n",
        "  trainlabel_file=open(y_path,\"r\")\n",
        "  for line in trainlabel_file:\n",
        "      y_array.append(int(line.rstrip()))\n",
        "  xfile=open(x_path,\"r\")\n",
        "  num_lines=0\n",
        "  xfile_list=[]\n",
        "  for line in xfile:\n",
        "    num_lines=num_lines+1\n",
        "    xfile_list.append(line)\n",
        "  \n",
        "  for i in range(0,num_lines,28):\n",
        "      xi_feature=[]\n",
        "      row_count=i\n",
        "      for j in range(7): # Taking 4x4 grids\n",
        "          ind_col_count=0\n",
        "          white_count=0\n",
        "          col=0\n",
        "          while(col<7):\n",
        "              white_count=0\n",
        "              old_colcount=ind_col_count\n",
        "              for k in range(row_count,row_count+4):\n",
        "                  ind_col_count=old_colcount\n",
        "                  for l in range (old_colcount,old_colcount+4):\n",
        "                      if(xfile_list[k][l]==' '):\n",
        "                          ind_col_count=ind_col_count+1\n",
        "                          white_count=white_count+1 # taking white cells into count\n",
        "                      else:\n",
        "                          ind_col_count=ind_col_count+1\n",
        "              xi_feature.append(round((white_count/16)*10))\n",
        "              col=col+1\n",
        "          row_count=row_count+4\n",
        "      x_array.append(xi_feature)\n",
        "  return x_array,y_array"
      ]
    },
    {
      "cell_type": "code",
      "execution_count": null,
      "metadata": {
        "id": "FIQUea8xiafM"
      },
      "outputs": [],
      "source": [
        "X_features,Y_labels=feature_extraction(\"/Users/rohithgummadi/Desktop/AI_Project/digitdata/trainingimages\",\"/Users/rohithgummadi/Desktop/AI_Project/digitdata/traininglabels\")\n"
      ]
    },
    {
      "cell_type": "code",
      "execution_count": null,
      "metadata": {
        "colab": {
          "base_uri": "https://localhost:8080/"
        },
        "id": "ZZz8IkhjidHU",
        "outputId": "1c3521e2-4ca8-44a9-f365-f71b3f0d6163"
      },
      "outputs": [
        {
          "name": "stdout",
          "output_type": "stream",
          "text": [
            "5000\n"
          ]
        }
      ],
      "source": [
        "print(len(X_features))"
      ]
    },
    {
      "cell_type": "code",
      "execution_count": null,
      "metadata": {
        "id": "0P2stDqOi3t3"
      },
      "outputs": [],
      "source": [
        "Xvalidation_features,Yvalidation_labels=feature_extraction(\"/Users/rohithgummadi/Desktop/AI_Project/digitdata/validationimages\",\"/Users/rohithgummadi/Desktop/AI_Project/digitdata/validationlabels\")\n"
      ]
    },
    {
      "cell_type": "code",
      "execution_count": null,
      "metadata": {
        "id": "eAs-w-RilI72"
      },
      "outputs": [],
      "source": [
        "Xtest_features,Ytest_labels=feature_extraction(\"/Users/rohithgummadi/Desktop/AI_Project/digitdata/testimages\",\"/Users/rohithgummadi/Desktop/AI_Project/digitdata/trainingimages\")\n"
      ]
    },
    {
      "cell_type": "code",
      "execution_count": null,
      "metadata": {
        "colab": {
          "base_uri": "https://localhost:8080/"
        },
        "id": "zEyIIbRty1vO",
        "outputId": "a09dd899-fc9b-45ba-8f68-1727d59e1a24"
      },
      "outputs": [
        {
          "name": "stdout",
          "output_type": "stream",
          "text": [
            "1000\n",
            "1000\n"
          ]
        }
      ],
      "source": [
        "print(len(Yvalidation_labels))\n",
        "print(len(Ytest_labels))"
      ]
    },
    {
      "cell_type": "code",
      "execution_count": null,
      "metadata": {
        "colab": {
          "base_uri": "https://localhost:8080/"
        },
        "id": "6doM_W9Wyf6z",
        "outputId": "8322eeab-bac6-4d19-c554-717fda0af3e1"
      },
      "outputs": [
        {
          "name": "stdout",
          "output_type": "stream",
          "text": [
            "[7 2 1 0 4 1 4 9 5 9 0 6 9 0 1 5 9 7 3 4 9 6 6 5 4 0 7 4 0 1 3 1 3 4 7 2 7\n",
            " 1 2 1 1 7 4 1 3 5 1 2 4 4 6 3 5 5 6 0 4 1 9 5 7 8 9 3 9 4 6 4 3 0 7 0 2 7\n",
            " 1 7 3 2 9 7 7 6 2 7 5 4 7 3 6 1 3 6 9 3 1 4 1 7 6 9 6 0 5 4 9 9 2 1 9 9 8\n",
            " 1 3 9 7 9 4 4 9 2 5 4 7 6 4 9 0 5 8 5 6 6 5 7 8 1 0 1 6 4 6 7 2 1 7 1 8 2\n",
            " 0 2 9 8 5 5 1 5 6 0 3 4 4 6 5 4 6 5 4 5 1 4 4 7 2 3 2 1 1 8 1 8 1 8 5 0 8\n",
            " 9 2 5 0 1 1 1 0 9 0 3 1 6 9 2 3 6 1 1 1 3 9 5 2 9 4 5 9 3 9 0 3 6 5 3 7 2\n",
            " 2 7 1 2 8 6 1 7 3 3 8 9 7 9 2 2 4 1 5 8 8 4 2 3 0 6 4 2 9 1 9 5 7 7 2 6 2\n",
            " 0 8 5 7 7 9 1 0 1 8 0 3 0 1 9 9 4 1 8 2 1 2 9 7 5 9 2 6 4 1 5 8 2 9 2 0 4\n",
            " 0 0 2 8 6 7 1 2 4 0 2 7 4 3 3 0 0 3 1 9 6 5 3 5 7 7 9 3 0 4 6 0 7 1 1 2 1\n",
            " 5 3 3 9 7 8 6 5 4 1 3 8 1 0 5 1 7 1 5 0 6 1 8 5 1 7 9 4 6 2 2 5 0 6 5 6 3\n",
            " 7 2 0 8 8 5 4 1 1 4 0 7 3 7 6 1 6 2 1 9 2 8 6 1 9 5 2 5 4 4 2 8 3 8 8 4 5\n",
            " 0 3 1 7 7 3 7 9 7 1 9 2 1 4 2 9 2 0 4 9 1 4 8 1 8 9 5 9 7 8 3 7 6 0 0 3 0\n",
            " 8 0 6 4 8 3 3 3 2 3 9 1 2 6 8 0 9 6 6 6 9 8 8 2 9 5 8 9 6 1 8 4 1 2 6 3 1\n",
            " 9 7 5 4 0 8 9 9 1 0 5 2 3 7 8 9 4 0 6 3 9 5 2 1 3 1 3 6 5 7 1 2 2 6 3 2 6\n",
            " 5 4 1 4 7 1 3 0 3 8 2 1 9 6 9 4 6 4 2 1 8 2 5 4 4 8 4 0 0 2 3 2 4 7 0 8 7\n",
            " 4 4 7 9 6 9 0 9 8 0 9 6 0 6 3 5 9 8 3 3 9 3 3 2 7 8 0 2 2 1 7 0 6 5 4 3 8\n",
            " 0 9 6 3 8 0 9 9 6 8 6 8 5 1 8 6 0 2 6 0 2 7 3 1 9 7 5 1 0 8 4 6 2 6 7 9 9\n",
            " 2 9 8 2 2 9 8 7 3 5 9 1 8 0 2 0 5 6 1 3 7 6 7 1 2 0 8 0 3 7 8 4 0 9 1 8 6\n",
            " 7 1 9 3 4 9 1 9 3 1 7 3 9 7 6 9 1 5 2 8 3 3 6 9 2 4 5 8 5 1 1 4 4 3 1 0 7\n",
            " 7 0 7 9 9 4 8 5 5 4 0 8 2 1 0 8 4 5 0 4 0 6 1 7 3 2 6 7 2 6 9 3 1 4 6 2 5\n",
            " 9 2 0 6 2 1 7 3 4 1 0 5 4 3 1 1 7 9 9 9 9 8 4 0 2 4 5 1 1 6 4 7 1 9 4 2 4\n",
            " 1 5 5 3 8 3 1 4 5 6 8 9 4 1 5 3 8 0 3 2 1 1 2 8 3 4 4 0 8 8 3 3 1 7 3 5 9\n",
            " 6 3 2 6 1 3 6 0 7 2 1 7 1 9 2 4 2 1 7 9 6 1 1 2 4 8 1 7 7 4 7 0 7 3 1 3 1\n",
            " 0 7 7 0 3 5 5 2 7 6 6 9 2 8 3 5 2 2 5 6 0 8 2 9 2 8 8 8 8 7 9 4 3 0 6 6 3\n",
            " 2 1 5 2 2 9 3 0 0 5 7 8 1 4 4 6 0 2 9 1 4 7 4 7 3 9 8 3 4 7 1 2 1 2 2 3 7\n",
            " 3 0 3 9 1 7 4 0 3 5 5 8 6 5 2 6 7 6 6 1 2 7 9 1 1 7 9 6 4 9 5 6 5 3 9 9 8\n",
            " 9 1 1 0 9 1 4 4 5 4 0 6 2 2 8 1 5 1 2 0 8 8 1 2 6 7 1 6 2 8 9 0 1 2 2 0 8\n",
            " 9]\n"
          ]
        }
      ],
      "source": [
        "#Predicting validation data\n",
        "knn = KNeighborsClassifier(n_neighbors=5)\n",
        "knn.fit(X_features, Y_labels)\n",
        "test_completion_labels=knn.predict(Xvalidation_features)\n",
        "print(test_completion_labels)"
      ]
    },
    {
      "cell_type": "code",
      "execution_count": null,
      "metadata": {
        "colab": {
          "base_uri": "https://localhost:8080/"
        },
        "id": "aMplaZj0yj2x",
        "outputId": "9b69b837-cdbe-4909-8ac5-11e320272edf"
      },
      "outputs": [
        {
          "name": "stdout",
          "output_type": "stream",
          "text": [
            "Accuracy_count 905\n",
            "Accuracy for test data 90.5\n"
          ]
        }
      ],
      "source": [
        "acc_count=0\n",
        "for i in range(len(test_completion_labels)):\n",
        "  if(test_completion_labels[i]==Yvalidation_labels[i]):\n",
        "    acc_count+=1\n",
        "print(\"Accuracy_count\", acc_count)\n",
        "print(\"Accuracy for test data\",(acc_count/len(test_completion_labels))*100)"
      ]
    },
    {
      "cell_type": "code",
      "execution_count": null,
      "metadata": {
        "colab": {
          "base_uri": "https://localhost:8080/"
        },
        "id": "kSC8lKudjRXr",
        "outputId": "6cdf9b9f-3ea6-4eaa-b105-90ca674d9483"
      },
      "outputs": [
        {
          "name": "stdout",
          "output_type": "stream",
          "text": [
            "[9 0 2 3 1 9 7 8 1 0 4 1 9 9 2 4 2 6 8 1 3 7 9 4 9 1 8 1 3 8 1 2 5 8 0 6 2\n",
            " 1 1 1 1 5 3 4 9 9 5 0 9 2 0 4 9 2 1 7 2 4 9 4 4 0 9 9 2 2 3 3 4 3 5 7 3 5\n",
            " 8 1 2 4 4 6 4 9 5 1 0 6 9 5 9 0 9 7 3 8 0 3 7 1 3 6 7 3 5 9 7 9 6 5 6 3 7\n",
            " 4 6 5 8 5 4 7 8 2 8 0 7 6 1 9 7 7 7 1 9 5 2 7 3 1 1 1 1 1 4 7 9 7 5 4 5 4\n",
            " 0 8 3 6 9 6 0 2 9 9 4 9 4 6 6 4 7 9 5 4 5 5 5 7 3 9 2 7 0 2 0 1 1 1 8 9 1\n",
            " 9 7 2 0 1 5 0 4 1 7 0 6 0 8 6 8 1 8 0 9 3 8 2 8 6 2 1 3 1 1 3 7 9 0 8 0 5\n",
            " 4 0 2 8 2 2 9 8 4 0 4 5 8 5 1 2 1 5 1 7 4 6 7 2 0 5 8 8 6 2 5 4 1 9 2 1 5\n",
            " 8 1 0 2 4 9 3 6 8 8 2 9 0 5 0 9 4 7 9 3 4 1 5 9 2 3 5 8 8 0 9 5 3 6 6 0 1\n",
            " 6 0 3 7 4 9 1 2 9 1 4 6 9 9 7 9 5 4 4 3 1 8 1 0 8 7 9 4 8 8 1 9 7 1 4 5 6\n",
            " 0 5 2 2 6 1 5 5 2 4 9 6 2 7 7 2 2 1 1 2 8 3 9 7 4 1 7 1 7 6 7 8 2 7 3 1 7\n",
            " 5 8 2 6 2 2 5 6 6 0 9 2 4 3 3 9 7 6 6 8 0 4 1 3 8 2 9 1 8 0 6 7 2 1 0 5 1\n",
            " 2 0 2 6 0 2 4 9 8 0 9 9 4 6 5 9 9 1 9 3 4 9 9 1 2 2 8 1 9 6 4 0 9 4 8 3 8\n",
            " 6 0 2 6 1 9 6 2 9 9 0 9 6 0 6 2 5 4 2 7 8 4 5 9 0 3 8 5 3 5 8 6 5 7 6 3 3\n",
            " 9 6 1 1 2 9 0 4 3 3 6 9 5 9 3 7 7 7 8 1 9 8 3 0 7 2 7 9 4 5 4 9 3 2 1 4 0\n",
            " 2 3 7 5 4 8 8 0 0 6 1 4 7 5 9 0 0 0 6 6 2 3 7 8 4 7 7 9 0 4 1 6 5 2 4 8 9\n",
            " 1 8 4 0 7 8 4 8 7 7 0 7 8 8 6 0 9 8 8 2 4 7 6 6 6 4 7 1 8 8 2 3 6 3 0 0 3\n",
            " 7 6 9 7 9 9 5 4 3 7 6 1 2 3 7 3 3 2 0 5 3 8 4 3 6 3 5 0 2 0 9 0 7 4 6 9 3\n",
            " 5 1 9 6 1 9 5 4 5 0 5 9 6 8 1 2 9 1 9 9 4 0 8 4 5 2 9 2 1 2 1 7 3 6 8 8 4\n",
            " 9 1 9 8 5 9 5 1 1 8 6 5 2 4 4 7 2 3 5 6 8 1 6 2 3 1 0 5 3 9 2 9 6 7 0 4 8\n",
            " 7 1 7 4 1 0 3 7 2 0 0 9 1 1 0 4 8 4 9 2 0 4 6 0 8 1 1 9 3 9 6 7 4 1 8 3 0\n",
            " 8 1 3 9 6 9 3 5 0 2 7 4 5 1 2 5 8 0 8 4 1 5 0 3 0 3 1 4 0 3 7 2 7 1 3 0 7\n",
            " 0 4 3 1 9 4 7 7 1 4 9 9 3 9 1 7 9 0 2 0 5 3 7 6 9 2 3 3 7 7 0 0 7 5 2 9 8\n",
            " 7 4 9 2 6 6 1 9 6 6 2 9 0 8 3 1 1 6 3 5 1 1 1 3 1 2 3 0 2 0 1 3 5 5 7 4 7\n",
            " 9 6 9 6 8 3 6 6 8 5 1 4 2 4 4 5 1 1 9 0 2 4 9 5 7 1 8 3 5 6 9 8 7 1 1 6 7\n",
            " 6 3 2 2 0 8 9 2 5 1 0 8 1 4 5 3 9 6 9 0 6 1 5 6 8 3 8 2 6 6 0 7 4 6 1 3 4\n",
            " 7 3 2 3 4 2 5 2 7 1 7 2 6 4 1 5 2 8 6 0 1 8 2 5 7 7 6 3 3 5 8 4 2 4 0 8 8\n",
            " 3 9 9 2 7 5 4 6 3 6 0 8 6 7 3 6 4 9 4 9 6 3 0 4 1 0 1 4 6 2 9 1 1 0 6 3 9\n",
            " 5]\n"
          ]
        }
      ],
      "source": [
        "#Predicting testing data\n",
        "knn = KNeighborsClassifier(n_neighbors=5)\n",
        "knn.fit(X_features, Y_labels)\n",
        "test_completion_labels=knn.predict(Xtest_features)\n",
        "print(test_completion_labels)"
      ]
    },
    {
      "cell_type": "code",
      "execution_count": null,
      "metadata": {
        "colab": {
          "base_uri": "https://localhost:8080/"
        },
        "id": "We3HKTh_kR3f",
        "outputId": "5e49bbd3-2b88-4933-e949-4a57b373f16c"
      },
      "outputs": [
        {
          "name": "stdout",
          "output_type": "stream",
          "text": [
            "Accuracy_count 877\n",
            "Accuracy for test data 87.7\n"
          ]
        }
      ],
      "source": [
        "acc_count=0\n",
        "for i in range(len(test_completion_labels)):\n",
        "  if(test_completion_labels[i]==Ytest_labels[i]):\n",
        "    acc_count+=1\n",
        "print(\"Accuracy_count\", acc_count)\n",
        "print(\"Accuracy for test data\",(acc_count/len(test_completion_labels))*100)"
      ]
    },
    {
      "cell_type": "code",
      "execution_count": null,
      "metadata": {
        "id": "qfQqFT7hlFsy"
      },
      "outputs": [],
      "source": [
        "#Training samples function to calculate accuracy for different sample sizes \n",
        "def training_samples():\n",
        "  percent_train=[10,20,30,40,50,60,70,80,90,100] # Taking different sample sizes\n",
        "  accuracy_list=[]\n",
        "  for ind in percent_train:\n",
        "    data_points=int((ind/100)*len(X_features))\n",
        "    indices_list=random.sample(range(0,len(X_features)),data_points)\n",
        "    Xtrain_features=[]\n",
        "    Ytrain_labels=[]\n",
        "    for index in indices_list:\n",
        "      Xtrain_features.append(X_features[index])\n",
        "      Ytrain_labels.append(Y_labels[index])\n",
        "    \n",
        "    test_completion_output=[]\n",
        "    knn = KNeighborsClassifier(n_neighbors=5)\n",
        "    knn.fit(Xtrain_features, Ytrain_labels)  # Fitting Knn classifier with training data\n",
        "    test_completion_output=knn.predict(Xtest_features)\n",
        "    acc_count=0\n",
        "    for i in range(len(test_completion_output)):\n",
        "      if(test_completion_output[i]==Ytest_labels[i]):\n",
        "        acc_count+=1\n",
        "    accuracy=(acc_count/len(test_completion_output))*100\n",
        "    print(\"Accuracy_count\",acc_count)\n",
        "    print(accuracy)\n",
        "    accuracy_list.append(accuracy)"
      ]
    },
    {
      "cell_type": "code",
      "execution_count": null,
      "metadata": {
        "colab": {
          "base_uri": "https://localhost:8080/"
        },
        "id": "Bgyg5i6gneZP",
        "outputId": "72731a02-26d1-4073-cbb8-7e38994ad3d6"
      },
      "outputs": [
        {
          "name": "stdout",
          "output_type": "stream",
          "text": [
            "Accuracy_count 784\n",
            "78.4\n",
            "Accuracy_count 833\n",
            "83.3\n",
            "Accuracy_count 832\n",
            "83.2\n",
            "Accuracy_count 853\n",
            "85.3\n",
            "Accuracy_count 859\n",
            "85.9\n",
            "Accuracy_count 865\n",
            "86.5\n",
            "Accuracy_count 860\n",
            "86.0\n",
            "Accuracy_count 870\n",
            "87.0\n",
            "Accuracy_count 873\n",
            "87.3\n",
            "Accuracy_count 877\n",
            "87.7\n"
          ]
        }
      ],
      "source": [
        "training_samples()"
      ]
    },
    {
      "cell_type": "code",
      "execution_count": null,
      "metadata": {
        "id": "H7Bmqs2YAXw6"
      },
      "outputs": [],
      "source": [
        "#cal_m_std function is to calculate mean and standard deviation of different sample sizes accuracies\n",
        "percent_train=[10,20,30,40,50,60,70,80,90,100]\n",
        "mean_list=[]\n",
        "std_list=[]\n",
        "time_list=[]\n",
        "def calc_m_std():\n",
        "  for ind in percent_train:\n",
        "    accuracy_list=[]\n",
        "    percent_timelist=[]\n",
        "    for i in range(5):\n",
        "      data_points=int((ind/100)*len(X_features))\n",
        "      indices_list=random.sample(range(0,len(X_features)),data_points)\n",
        "      Xtrain_features=[]\n",
        "      Ytrain_labels=[]\n",
        "      for index in indices_list:\n",
        "        Xtrain_features.append(X_features[index])\n",
        "        Ytrain_labels.append(Y_labels[index])\n",
        "      \n",
        "      test_completion_output=[]\n",
        "      knn = KNeighborsClassifier(n_neighbors=5)\n",
        "      start=time.time()\n",
        "      knn.fit(Xtrain_features, Ytrain_labels)\n",
        "      test_completion_output=knn.predict(Xtest_features)\n",
        "      end=time.time()\n",
        "      percent_timelist.append((end-start)*10**3)\n",
        "      acc_count=0\n",
        "      for i in range(len(test_completion_output)):\n",
        "        if(test_completion_output[i]==Ytest_labels[i]):\n",
        "          acc_count+=1\n",
        "      accuracy=(acc_count/len(test_completion_output))*100\n",
        "      accuracy_list.append(accuracy)\n",
        "    \n",
        "    time_list.append(np.average(percent_timelist))\n",
        "    mean_list.append(np.average(accuracy_list))\n",
        "    std_list.append(np.std(accuracy_list))\n",
        "    print(\"Time taken for\",ind,\"% data is\", percent_timelist)\n",
        "    print(\"mean time for\",ind,\"% data is \",np.average(percent_timelist))\n",
        "    print(\"accuracy_list for\",ind,\"% data is\", accuracy_list) \n",
        "    print(\"mean accuracies for\",ind,\"% data is \",np.average(accuracy_list))# Mean of accuracies of sample data\n",
        "    print(\"standard deviation of accuracies for\",ind,\"% data is\",np.std(accuracy_list)) #Standard deviation of accuracies of sample data\n",
        "    print(\"\\n\")\n",
        "    \n"
      ]
    },
    {
      "cell_type": "code",
      "execution_count": null,
      "metadata": {
        "colab": {
          "base_uri": "https://localhost:8080/"
        },
        "id": "P9Ahvx2WAwZb",
        "outputId": "71806249-bfc8-434e-d795-207a3875dfe7"
      },
      "outputs": [
        {
          "name": "stdout",
          "output_type": "stream",
          "text": [
            "Time taken for 10 % data is [71.41304016113281, 84.73658561706543, 62.927961349487305, 80.50942420959473, 71.79021835327148]\n",
            "mean time for 10 % data is  74.27544593811035\n",
            "accuracy_list for 10 % data is [77.60000000000001, 79.4, 75.9, 79.9, 80.5]\n",
            "mean accuracies for 10 % data is  78.66\n",
            "standard deviation of accuracies for 10 % data is 1.6859418732566063\n",
            "\n",
            "\n",
            "Time taken for 20 % data is [95.65877914428711, 82.80253410339355, 98.62112998962402, 85.65402030944824, 97.7623462677002]\n",
            "mean time for 20 % data is  92.09976196289062\n",
            "accuracy_list for 20 % data is [84.5, 82.8, 82.39999999999999, 83.2, 81.3]\n",
            "mean accuracies for 20 % data is  82.84\n",
            "standard deviation of accuracies for 20 % data is 1.0442221985765308\n",
            "\n",
            "\n",
            "Time taken for 30 % data is [121.10757827758789, 124.22323226928711, 121.28233909606934, 102.15473175048828, 100.76022148132324]\n",
            "mean time for 30 % data is  113.90562057495117\n",
            "accuracy_list for 30 % data is [82.89999999999999, 82.8, 84.5, 85.7, 85.39999999999999]\n",
            "mean accuracies for 30 % data is  84.25999999999999\n",
            "standard deviation of accuracies for 30 % data is 1.2175385004179555\n",
            "\n",
            "\n",
            "Time taken for 40 % data is [155.37071228027344, 114.3643856048584, 135.6825828552246, 118.00527572631836, 124.64475631713867]\n",
            "mean time for 40 % data is  129.6135425567627\n",
            "accuracy_list for 40 % data is [85.1, 85.0, 84.7, 84.39999999999999, 85.6]\n",
            "mean accuracies for 40 % data is  84.96\n",
            "standard deviation of accuracies for 40 % data is 0.40298883359219745\n",
            "\n",
            "\n",
            "Time taken for 50 % data is [156.3551425933838, 142.12298393249512, 133.12458992004395, 153.63812446594238, 135.29682159423828]\n",
            "mean time for 50 % data is  144.1075325012207\n",
            "accuracy_list for 50 % data is [86.2, 85.9, 85.7, 85.6, 85.6]\n",
            "mean accuracies for 50 % data is  85.8\n",
            "standard deviation of accuracies for 50 % data is 0.22803508501983083\n",
            "\n",
            "\n",
            "Time taken for 60 % data is [167.89555549621582, 169.15535926818848, 153.50985527038574, 146.63243293762207, 141.60799980163574]\n",
            "mean time for 60 % data is  155.76024055480957\n",
            "accuracy_list for 60 % data is [86.4, 85.9, 85.3, 86.1, 86.0]\n",
            "mean accuracies for 60 % data is  85.94000000000001\n",
            "standard deviation of accuracies for 60 % data is 0.3611094017053576\n",
            "\n",
            "\n",
            "Time taken for 70 % data is [166.9931411743164, 169.07119750976562, 170.7615852355957, 169.69585418701172, 155.17663955688477]\n",
            "mean time for 70 % data is  166.33968353271484\n",
            "accuracy_list for 70 % data is [87.0, 86.1, 85.6, 86.2, 85.2]\n",
            "mean accuracies for 70 % data is  86.02\n",
            "standard deviation of accuracies for 70 % data is 0.6079473661428266\n",
            "\n",
            "\n",
            "Time taken for 80 % data is [182.26051330566406, 170.63093185424805, 174.85880851745605, 172.8353500366211, 179.05282974243164]\n",
            "mean time for 80 % data is  175.92768669128418\n",
            "accuracy_list for 80 % data is [86.9, 86.6, 87.2, 87.0, 86.8]\n",
            "mean accuracies for 80 % data is  86.9\n",
            "standard deviation of accuracies for 80 % data is 0.20000000000000284\n",
            "\n",
            "\n",
            "Time taken for 90 % data is [186.90967559814453, 199.32007789611816, 185.86015701293945, 185.8358383178711, 197.39484786987305]\n",
            "mean time for 90 % data is  191.06411933898926\n",
            "accuracy_list for 90 % data is [87.3, 87.9, 87.6, 87.1, 87.9]\n",
            "mean accuracies for 90 % data is  87.55999999999999\n",
            "standard deviation of accuracies for 90 % data is 0.3200000000000044\n",
            "\n",
            "\n",
            "Time taken for 100 % data is [209.4416618347168, 212.8455638885498, 192.81268119812012, 199.01275634765625, 195.9991455078125]\n",
            "mean time for 100 % data is  202.0223617553711\n",
            "accuracy_list for 100 % data is [87.7, 87.6, 87.7, 87.7, 87.7]\n",
            "mean accuracies for 100 % data is  87.67999999999999\n",
            "standard deviation of accuracies for 100 % data is 0.040000000000003415\n",
            "\n",
            "\n"
          ]
        }
      ],
      "source": [
        "calc_m_std()"
      ]
    },
    {
      "cell_type": "code",
      "execution_count": null,
      "metadata": {
        "colab": {
          "base_uri": "https://localhost:8080/",
          "height": 280
        },
        "id": "WmNhDAfhEHrN",
        "outputId": "2788097d-a120-4f86-9490-6e1690b754f6"
      },
      "outputs": [
        {
          "data": {
            "image/png": "[encoded data removed]",
            "text/plain": [
              "<Figure size 432x288 with 1 Axes>"
            ]
          },
          "metadata": {
            "needs_background": "light"
          },
          "output_type": "display_data"
        }
      ],
      "source": [
        "plt.plot(percent_train,mean_list)\n",
        "plt.xlabel(\"Training Samples\")\n",
        "plt.ylabel(\"Mean\")\n",
        "plt.show()"
      ]
    },
    {
      "cell_type": "code",
      "execution_count": null,
      "metadata": {
        "colab": {
          "base_uri": "https://localhost:8080/",
          "height": 281
        },
        "id": "A9zbUYfkEKv9",
        "outputId": "5a9aaf32-ae4b-4f7e-8241-11006ff20c74"
      },
      "outputs": [
        {
          "data": {
            "image/png": "[encoded data removed]",
            "text/plain": [
              "<Figure size 432x288 with 1 Axes>"
            ]
          },
          "metadata": {
            "needs_background": "light"
          },
          "output_type": "display_data"
        }
      ],
      "source": [
        "plt.plot(percent_train,std_list)\n",
        "plt.xlabel(\"Training Samples\")\n",
        "plt.ylabel(\"Standard Deviation\")\n",
        "plt.show()"
      ]
    },
    {
      "cell_type": "code",
      "execution_count": null,
      "metadata": {
        "colab": {
          "base_uri": "https://localhost:8080/",
          "height": 279
        },
        "id": "H8JBq6jJEOok",
        "outputId": "d74a6a34-ac0f-4921-b2cd-4e4c9206555d"
      },
      "outputs": [
        {
          "data": {
            "image/png": "[encoded data removed]",
            "text/plain": [
              "<Figure size 432x288 with 1 Axes>"
            ]
          },
          "metadata": {
            "needs_background": "light"
          },
          "output_type": "display_data"
        }
      ],
      "source": [
        "plt.plot(percent_train,time_list)\n",
        "plt.xlabel(\"Training Samples\")\n",
        "plt.ylabel(\"Time taken (ms)\")\n",
        "plt.show()"
      ]
    }
  ],
  "metadata": {
    "colab": {
      "provenance": []
    },
    "kernelspec": {
      "display_name": "Python 3.9.12 ('base')",
      "language": "python",
      "name": "python3"
    },
    "language_info": {
      "name": "python",
      "version": "3.9.12"
    },
    "vscode": {
      "interpreter": {
        "hash": "2b8274ea409968976553f2ab4d9c95cb85d181cbeb843103a571e0253b5df2a4"
      }
    }
  },
  "nbformat": 4,
  "nbformat_minor": 0
}
