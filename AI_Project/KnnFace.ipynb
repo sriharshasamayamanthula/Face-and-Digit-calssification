{
  "cells": [
    {
      "cell_type": "code",
      "execution_count": null,
      "metadata": {
        "id": "kv3AobpeogR4"
      },
      "outputs": [],
      "source": [
        "import numpy as np\n",
        "import pandas as pd\n",
        "from sklearn.neighbors import KNeighborsClassifier\n",
        "import random\n",
        "import matplotlib.pyplot as plt \n",
        "import time"
      ]
    },
    {
      "cell_type": "code",
      "execution_count": null,
      "metadata": {
        "id": "8CuN9oGQoj1L"
      },
      "outputs": [],
      "source": [
        "#Feature extraction is to transform image into list of features using grid technique \n",
        "def feature_extraction(x_path,y_path):\n",
        "    x_array=[] # 2d list to store features of images\n",
        "    y_array=[] # list to store y labels\n",
        "    trainlabel_file=open(y_path,\"r\")\n",
        "\n",
        "    for line in trainlabel_file:\n",
        "        y_array.append(int(line.rstrip()))\n",
        "    xfile=open(x_path,\"r\")\n",
        "    num_lines=0\n",
        "    xfile_list=[]\n",
        "    for line in xfile:\n",
        "      num_lines=num_lines+1\n",
        "      xfile_list.append(line)\n",
        "    \n",
        "    for i in range(0,num_lines,70):\n",
        "        xi_feature=[]\n",
        "        row_count=i \n",
        "        for j in range(7): # taking 10x10 grids of image \n",
        "            ind_col_count=0\n",
        "            white_count=0\n",
        "            col=0\n",
        "            while(col<6):\n",
        "                white_count=0\n",
        "                old_colcount=ind_col_count\n",
        "                for k in range(row_count,row_count+10):\n",
        "                    ind_col_count=old_colcount\n",
        "                    for l in range (old_colcount,old_colcount+10):\n",
        "                        if(xfile_list[k][l]==' '):\n",
        "                            ind_col_count=ind_col_count+1\n",
        "                            white_count=white_count+1\n",
        "                        else:\n",
        "                            ind_col_count=ind_col_count+1\n",
        "                xi_feature.append(round((white_count/100)*10))\n",
        "                col=col+1\n",
        "            row_count=row_count+10\n",
        "        x_array.append(xi_feature)\n",
        "    return x_array,y_array\n",
        "                    "
      ]
    },
    {
      "cell_type": "code",
      "execution_count": null,
      "metadata": {
        "id": "NNlOOn4Boosq"
      },
      "outputs": [],
      "source": [
        "X_features,Y_labels=feature_extraction(\"/Users/rohithgummadi/Desktop/AI_Project/facedata/facedatatrain\",\"/Users/rohithgummadi/Desktop/AI_Project/facedata/facedatatrainlabels\")\n"
      ]
    },
    {
      "cell_type": "code",
      "execution_count": null,
      "metadata": {
        "colab": {
          "base_uri": "https://localhost:8080/"
        },
        "id": "PSpjUhh2orSw",
        "outputId": "c16221c1-40cd-4a5e-dc2c-a6f9f963dbe6"
      },
      "outputs": [
        {
          "name": "stdout",
          "output_type": "stream",
          "text": [
            "451\n",
            "451\n"
          ]
        }
      ],
      "source": [
        "print(len(X_features))\n",
        "print(len(Y_labels))"
      ]
    },
    {
      "cell_type": "code",
      "execution_count": null,
      "metadata": {
        "id": "BcFL_luFo4zm"
      },
      "outputs": [],
      "source": [
        "Xvalidation_features,Yvalidation_labels=feature_extraction(\"/Users/rohithgummadi/Desktop/AI_Project/facedata/facedatavalidation\",\"/Users/rohithgummadi/Desktop/AI_Project/facedata/facedatavalidationlabels\")\n"
      ]
    },
    {
      "cell_type": "code",
      "execution_count": null,
      "metadata": {
        "colab": {
          "base_uri": "https://localhost:8080/"
        },
        "id": "T9LkCur6HCX2",
        "outputId": "0df3e547-159f-40f6-c415-35949554cba1"
      },
      "outputs": [
        {
          "name": "stdout",
          "output_type": "stream",
          "text": [
            "301\n",
            "301\n"
          ]
        }
      ],
      "source": [
        "print(len(Xvalidation_features))\n",
        "print(len(Yvalidation_labels))"
      ]
    },
    {
      "cell_type": "code",
      "execution_count": null,
      "metadata": {
        "id": "9xxzWbIspAgO"
      },
      "outputs": [],
      "source": [
        "Xtest_features,Ytest_labels=feature_extraction(\"/Users/rohithgummadi/Desktop/AI_Project/facedata/facedatatest\",\"/Users/rohithgummadi/Desktop/AI_Project/facedata/facedatatestlabels\")\n"
      ]
    },
    {
      "cell_type": "code",
      "execution_count": null,
      "metadata": {
        "colab": {
          "base_uri": "https://localhost:8080/"
        },
        "id": "1E-G1FkWJ04_",
        "outputId": "c3b4d5c4-1205-47f6-ec81-02e01a78cb5a"
      },
      "outputs": [
        {
          "name": "stdout",
          "output_type": "stream",
          "text": [
            "150\n",
            "150\n"
          ]
        }
      ],
      "source": [
        "print(len(Xtest_features))\n",
        "print(len(Ytest_labels))"
      ]
    },
    {
      "cell_type": "code",
      "execution_count": null,
      "metadata": {
        "colab": {
          "base_uri": "https://localhost:8080/"
        },
        "id": "j4fx-SFnqxVy",
        "outputId": "de701a7f-bcda-426f-ce65-e6a7c50caa8e"
      },
      "outputs": [
        {
          "name": "stdout",
          "output_type": "stream",
          "text": [
            "[1 0 1 1 1 1 0 0 1 1 1 1 1 1 1 0 1 1 1 1 1 1 1 1 1 0 1 0 1 1 1 1 1 0 0 0 0\n",
            " 1 1 1 0 1 1 1 1 1 1 1 1 1 1 1 1 1 1 1 1 1 1 1 1 0 0 0 1 1 1 0 0 1 1 1 0 0\n",
            " 0 1 1 1 1 1 1 1 1 1 1 1 0 1 1 1 1 1 1 1 1 0 1 1 1 1 1 0 1 0 1 0 1 1 1 1 1\n",
            " 0 1 1 0 0 1 0 0 1 1 1 1 1 1 1 0 0 1 0 0 1 1 1 1 1 0 1 1 1 1 1 1 0 1 1 1 1\n",
            " 1 1 1 1 1 1 1 1 1 1 1 1 1 1 1 0 1 0 0 1 0 1 1 1 0 1 0 1 1 0 1 1 1 1 1 1 1\n",
            " 0 1 1 1 0 1 0 1 1 1 1 0 0 1 1 1 1 1 1 1 1 1 0 1 1 0 1 1 0 0 1 0 1 1 1 1 1\n",
            " 0 1 1 0 1 1 1 1 1 0 1 0 0 0 1 1 1 0 1 1 1 1 1 1 1 1 1 0 1 0 0 0 1 1 1 1 1\n",
            " 1 1 0 0 1 1 1 1 1 1 0 0 1 1 1 1 0 1 1 1 1 0 0 1 1 0 1 1 1 1 1 0 0 0 1 1 0\n",
            " 0 1 1 1 1]\n",
            "301\n"
          ]
        }
      ],
      "source": [
        "#Predicting validation data\n",
        "knn = KNeighborsClassifier(n_neighbors=5)\n",
        "knn.fit(X_features, Y_labels)\n",
        "test_completion_labels=knn.predict(Xvalidation_features)\n",
        "print(test_completion_labels)\n",
        "print(len(test_completion_labels))"
      ]
    },
    {
      "cell_type": "code",
      "execution_count": null,
      "metadata": {
        "colab": {
          "base_uri": "https://localhost:8080/"
        },
        "id": "xTosQnklqyEz",
        "outputId": "9d92bd18-e31c-4ae5-b1ef-d406bcae941a"
      },
      "outputs": [
        {
          "name": "stdout",
          "output_type": "stream",
          "text": [
            "Accuracy count 219\n",
            "Accuracy for validation data 72.75747508305648\n"
          ]
        }
      ],
      "source": [
        "acc_count=0\n",
        "for i in range(len(test_completion_labels)):\n",
        "  if(test_completion_labels[i]==Yvalidation_labels[i]):\n",
        "    acc_count+=1\n",
        "print(\"Accuracy count\",acc_count)\n",
        "print(\"Accuracy for validation data\",(acc_count/len(test_completion_labels))*100)"
      ]
    },
    {
      "cell_type": "code",
      "execution_count": null,
      "metadata": {
        "colab": {
          "base_uri": "https://localhost:8080/"
        },
        "id": "gcYeuR3ApC01",
        "outputId": "3e8a0d12-54f6-4bcf-f87a-3c2c137bab9f"
      },
      "outputs": [
        {
          "name": "stdout",
          "output_type": "stream",
          "text": [
            "[1 1 1 1 1 1 1 1 1 1 1 1 1 1 0 1 0 0 0 1 0 0 1 1 1 1 1 1 1 1 1 1 0 1 1 0 1\n",
            " 1 1 0 1 1 0 1 1 1 0 1 0 1 1 1 1 1 1 1 1 1 1 1 1 1 1 1 1 0 0 1 0 1 1 1 1 1\n",
            " 0 1 1 1 1 1 1 0 0 1 0 1 0 1 1 1 0 1 1 1 1 1 1 1 0 0 1 1 1 1 1 1 1 1 1 0 1\n",
            " 0 0 1 1 0 1 1 1 1 1 0 1 1 1 1 1 0 0 1 1 0 0 1 0 1 0 1 0 1 1 1 0 1 1 1 1 0\n",
            " 1 1]\n",
            "150\n"
          ]
        }
      ],
      "source": [
        "#Predicting testing data\n",
        "knn = KNeighborsClassifier(n_neighbors=5)\n",
        "knn.fit(X_features, Y_labels)\n",
        "test_completion_labels=knn.predict(Xtest_features)\n",
        "print(test_completion_labels)\n",
        "print(len(test_completion_labels))"
      ]
    },
    {
      "cell_type": "code",
      "execution_count": null,
      "metadata": {
        "colab": {
          "base_uri": "https://localhost:8080/"
        },
        "id": "MOLgiUm5pFI2",
        "outputId": "aa197ad5-bf99-4565-d2fb-c9d5bae58525"
      },
      "outputs": [
        {
          "name": "stdout",
          "output_type": "stream",
          "text": [
            "Accuracy count 108\n",
            "Accuracy for test data 72.0\n"
          ]
        }
      ],
      "source": [
        "acc_count=0\n",
        "for i in range(len(test_completion_labels)):\n",
        "  if(test_completion_labels[i]==Ytest_labels[i]):\n",
        "    acc_count+=1\n",
        "print(\"Accuracy count\",acc_count)\n",
        "print(\"Accuracy for test data\",(acc_count/len(test_completion_labels))*100)"
      ]
    },
    {
      "cell_type": "code",
      "execution_count": null,
      "metadata": {
        "id": "dvm8qwk0pOcS"
      },
      "outputs": [],
      "source": [
        "#Training samples function to calculate accuracy for different sample sizes \n",
        "def training_samples():\n",
        "  percent_train=[10,20,30,40,50,60,70,80,90,100] # To train on different samples of data\n",
        "  accuracy_list=[]\n",
        "  for ind in percent_train:\n",
        "    data_points=int((ind/100)*len(X_features))\n",
        "    indices_list=random.sample(range(0,len(X_features)),data_points)\n",
        "    Xtrain_features=[]\n",
        "    Ytrain_labels=[]\n",
        "    for index in indices_list:\n",
        "      Xtrain_features.append(X_features[index])\n",
        "      Ytrain_labels.append(Y_labels[index])\n",
        "    \n",
        "    test_completion_output=[]\n",
        "    knn = KNeighborsClassifier(n_neighbors=5) \n",
        "    knn.fit(Xtrain_features, Ytrain_labels)  # Fitting knn classifier with train data\n",
        "    test_completion_output=knn.predict(Xtest_features)\n",
        "    acc_count=0\n",
        "    for i in range(len(test_completion_output)):\n",
        "      if(test_completion_output[i]==Ytest_labels[i]):\n",
        "        acc_count+=1\n",
        "    accuracy=(acc_count/len(test_completion_output))*100\n",
        "    print(\"Accuracy for\",ind,\"% data is\",accuracy)\n",
        "    accuracy_list.append(accuracy)"
      ]
    },
    {
      "cell_type": "code",
      "execution_count": null,
      "metadata": {
        "colab": {
          "base_uri": "https://localhost:8080/"
        },
        "id": "wJV4zps1pndM",
        "outputId": "838cc2db-7bf0-47d5-f003-25ef977ba565"
      },
      "outputs": [
        {
          "name": "stdout",
          "output_type": "stream",
          "text": [
            "Accuracy for 10 % data is 64.66666666666666\n",
            "Accuracy for 20 % data is 66.66666666666666\n",
            "Accuracy for 30 % data is 65.33333333333333\n",
            "Accuracy for 40 % data is 65.33333333333333\n",
            "Accuracy for 50 % data is 75.33333333333333\n",
            "Accuracy for 60 % data is 71.33333333333334\n",
            "Accuracy for 70 % data is 69.33333333333334\n",
            "Accuracy for 80 % data is 73.33333333333333\n",
            "Accuracy for 90 % data is 68.0\n",
            "Accuracy for 100 % data is 72.66666666666667\n"
          ]
        }
      ],
      "source": [
        "training_samples()"
      ]
    },
    {
      "cell_type": "code",
      "execution_count": null,
      "metadata": {
        "id": "dSUz7Nh6s6hB"
      },
      "outputs": [],
      "source": [
        "#cal_m_std function is to calculate mean and standard deviation of different sample sizes accuracies\n",
        "percent_train=[10,20,30,40,50,60,70,80,90,100]\n",
        "mean_list=[]\n",
        "std_list=[]\n",
        "time_list=[]\n",
        "def cal_m_std():\n",
        "  for ind in percent_train:\n",
        "    accuracy_list=[]\n",
        "    percent_timelist=[]\n",
        "    for i in range(5):\n",
        "      data_points=int((ind/100)*len(X_features))\n",
        "      indices_list=random.sample(range(0,len(X_features)),data_points)\n",
        "      Xtrain_features=[]\n",
        "      Ytrain_labels=[]\n",
        "      for index in indices_list:\n",
        "        Xtrain_features.append(X_features[index])\n",
        "        Ytrain_labels.append(Y_labels[index])\n",
        "      \n",
        "      test_completion_output=[]\n",
        "      knn = KNeighborsClassifier(n_neighbors=5)\n",
        "      start=time.time() # Start time\n",
        "      knn.fit(Xtrain_features, Ytrain_labels)\n",
        "      test_completion_output=knn.predict(Xtest_features)\n",
        "      end=time.time() # End time\n",
        "      percent_timelist.append((end-start)*10**3)\n",
        "      acc_count=0\n",
        "      for i in range(len(test_completion_output)):\n",
        "        if(test_completion_output[i]==Ytest_labels[i]):\n",
        "          acc_count+=1\n",
        "      accuracy=(acc_count/len(Xtest_features))*100\n",
        "      accuracy_list.append(accuracy)\n",
        "    time_list.append(np.average(percent_timelist))\n",
        "    mean_list.append(np.average(accuracy_list))\n",
        "    std_list.append(np.std(accuracy_list))\n",
        "    print(\"Time taken for\",ind,\"% data is\", percent_timelist)\n",
        "    print(\"mean time for\",ind,\"% data is \",np.average(percent_timelist))\n",
        "    print(\"accuracy_list for\",ind,\"% data is\", accuracy_list) \n",
        "    print(\"mean accuracies for\",ind,\"% data is \",np.average(accuracy_list))# Mean of accuracies of sample data\n",
        "    print(\"standard deviation of accuracies for\",ind,\"% data is\",np.std(accuracy_list)) #Standard deviation of accuracies of sample data\n",
        "    print(\"\\n\")"
      ]
    },
    {
      "cell_type": "code",
      "execution_count": null,
      "metadata": {
        "colab": {
          "base_uri": "https://localhost:8080/"
        },
        "id": "XSxvdZEb96tV",
        "outputId": "2d800815-1ecb-4838-95af-70562b027147"
      },
      "outputs": [
        {
          "name": "stdout",
          "output_type": "stream",
          "text": [
            "Time taken for 10 % data is [20.212888717651367, 17.122745513916016, 24.9178409576416, 26.60512924194336, 19.53268051147461]\n",
            "mean time for 10 % data is  21.67825698852539\n",
            "accuracy_list for 10 % data is [68.66666666666667, 66.0, 54.666666666666664, 60.66666666666667, 70.66666666666667]\n",
            "mean accuracies for 10 % data is  64.13333333333334\n",
            "standard deviation of accuracies for 10 % data is 5.802681372530387\n",
            "\n",
            "\n",
            "Time taken for 20 % data is [40.013790130615234, 20.699024200439453, 18.30887794494629, 22.2930908203125, 21.846771240234375]\n",
            "mean time for 20 % data is  24.63231086730957\n",
            "accuracy_list for 20 % data is [75.33333333333333, 76.0, 73.33333333333333, 67.33333333333333, 62.66666666666667]\n",
            "mean accuracies for 20 % data is  70.93333333333332\n",
            "standard deviation of accuracies for 20 % data is 5.139822737972366\n",
            "\n",
            "\n",
            "Time taken for 30 % data is [32.57250785827637, 30.101776123046875, 30.0137996673584, 23.354530334472656, 23.565053939819336]\n",
            "mean time for 30 % data is  27.921533584594727\n",
            "accuracy_list for 30 % data is [68.0, 60.66666666666667, 68.66666666666667, 66.66666666666666, 68.0]\n",
            "mean accuracies for 30 % data is  66.4\n",
            "standard deviation of accuracies for 30 % data is 2.939387691339812\n",
            "\n",
            "\n",
            "Time taken for 40 % data is [34.64794158935547, 26.526451110839844, 33.017635345458984, 21.383285522460938, 20.572662353515625]\n",
            "mean time for 40 % data is  27.229595184326172\n",
            "accuracy_list for 40 % data is [70.0, 72.66666666666667, 71.33333333333334, 69.33333333333334, 68.66666666666667]\n",
            "mean accuracies for 40 % data is  70.4\n",
            "standard deviation of accuracies for 40 % data is 1.4360439485692011\n",
            "\n",
            "\n",
            "Time taken for 50 % data is [25.09331703186035, 37.78982162475586, 37.077903747558594, 26.851415634155273, 31.006574630737305]\n",
            "mean time for 50 % data is  31.563806533813477\n",
            "accuracy_list for 50 % data is [66.0, 76.0, 74.66666666666667, 74.0, 69.33333333333334]\n",
            "mean accuracies for 50 % data is  72.0\n",
            "standard deviation of accuracies for 50 % data is 3.747591819348052\n",
            "\n",
            "\n",
            "Time taken for 60 % data is [32.82594680786133, 27.04143524169922, 22.689342498779297, 25.30503273010254, 29.302358627319336]\n",
            "mean time for 60 % data is  27.432823181152344\n",
            "accuracy_list for 60 % data is [74.0, 68.66666666666667, 72.66666666666667, 73.33333333333333, 70.66666666666667]\n",
            "mean accuracies for 60 % data is  71.86666666666667\n",
            "standard deviation of accuracies for 60 % data is 1.9504985117770368\n",
            "\n",
            "\n",
            "Time taken for 70 % data is [32.51075744628906, 27.33325958251953, 25.098323822021484, 36.739349365234375, 30.210494995117188]\n",
            "mean time for 70 % data is  30.378437042236328\n",
            "accuracy_list for 70 % data is [72.66666666666667, 72.66666666666667, 72.0, 74.0, 70.0]\n",
            "mean accuracies for 70 % data is  72.26666666666668\n",
            "standard deviation of accuracies for 70 % data is 1.3063945294843622\n",
            "\n",
            "\n",
            "Time taken for 80 % data is [35.62641143798828, 29.195547103881836, 25.171995162963867, 25.866031646728516, 29.27851676940918]\n",
            "mean time for 80 % data is  29.027700424194336\n",
            "accuracy_list for 80 % data is [73.33333333333333, 70.66666666666667, 68.0, 69.33333333333334, 71.33333333333334]\n",
            "mean accuracies for 80 % data is  70.53333333333335\n",
            "standard deviation of accuracies for 80 % data is 1.808621328833403\n",
            "\n",
            "\n",
            "Time taken for 90 % data is [59.52620506286621, 50.069332122802734, 35.89582443237305, 35.300493240356445, 33.04767608642578]\n",
            "mean time for 90 % data is  42.767906188964844\n",
            "accuracy_list for 90 % data is [73.33333333333333, 71.33333333333334, 74.0, 69.33333333333334, 71.33333333333334]\n",
            "mean accuracies for 90 % data is  71.86666666666667\n",
            "standard deviation of accuracies for 90 % data is 1.654623152798776\n",
            "\n",
            "\n",
            "Time taken for 100 % data is [42.617082595825195, 33.33020210266113, 31.08811378479004, 31.360149383544922, 29.801368713378906]\n",
            "mean time for 100 % data is  33.63938331604004\n",
            "accuracy_list for 100 % data is [73.33333333333333, 72.0, 72.66666666666667, 70.0, 72.66666666666667]\n",
            "mean accuracies for 100 % data is  72.13333333333334\n",
            "standard deviation of accuracies for 100 % data is 1.14697670227235\n",
            "\n",
            "\n"
          ]
        }
      ],
      "source": [
        "cal_m_std()"
      ]
    },
    {
      "cell_type": "code",
      "execution_count": null,
      "metadata": {
        "colab": {
          "base_uri": "https://localhost:8080/",
          "height": 279
        },
        "id": "Vp2Bq_3D72ZU",
        "outputId": "7d878361-1b10-4926-db66-2f012834472d"
      },
      "outputs": [
        {
          "data": {
            "image/png": "[encoded data removed]",
            "text/plain": [
              "<Figure size 432x288 with 1 Axes>"
            ]
          },
          "metadata": {
            "needs_background": "light"
          },
          "output_type": "display_data"
        }
      ],
      "source": [
        "plt.plot(percent_train,mean_list)\n",
        "plt.xlabel(\"Training Samples\")\n",
        "plt.ylabel(\"Mean\")\n",
        "plt.show()"
      ]
    },
    {
      "cell_type": "code",
      "execution_count": null,
      "metadata": {
        "colab": {
          "base_uri": "https://localhost:8080/",
          "height": 282
        },
        "id": "97rjHc-d88UK",
        "outputId": "1b486405-0e66-4bf7-9c43-522cf2a849da"
      },
      "outputs": [
        {
          "data": {
            "image/png": "[encoded data removed]",
            "text/plain": [
              "<Figure size 432x288 with 1 Axes>"
            ]
          },
          "metadata": {
            "needs_background": "light"
          },
          "output_type": "display_data"
        }
      ],
      "source": [
        "plt.plot(percent_train,std_list)\n",
        "plt.xlabel(\"Training Samples\")\n",
        "plt.ylabel(\"Standard Deviation\")\n",
        "plt.show()"
      ]
    },
    {
      "cell_type": "code",
      "execution_count": null,
      "metadata": {
        "colab": {
          "base_uri": "https://localhost:8080/",
          "height": 279
        },
        "id": "r-PA4zrVBIMo",
        "outputId": "01664905-a411-4633-dfb2-268ad363363c"
      },
      "outputs": [
        {
          "data": {
            "image/png": "[encoded data removed]",
            "text/plain": [
              "<Figure size 432x288 with 1 Axes>"
            ]
          },
          "metadata": {
            "needs_background": "light"
          },
          "output_type": "display_data"
        }
      ],
      "source": [
        "plt.plot(percent_train,time_list)\n",
        "plt.xlabel(\"Training Samples\")\n",
        "plt.ylabel(\"Time taken (ms)\")\n",
        "plt.show()"
      ]
    }
  ],
  "metadata": {
    "colab": {
      "provenance": []
    },
    "kernelspec": {
      "display_name": "Python 3.9.12 ('base')",
      "language": "python",
      "name": "python3"
    },
    "language_info": {
      "name": "python",
      "version": "3.9.12"
    },
    "vscode": {
      "interpreter": {
        "hash": "2b8274ea409968976553f2ab4d9c95cb85d181cbeb843103a571e0253b5df2a4"
      }
    }
  },
  "nbformat": 4,
  "nbformat_minor": 0
}
